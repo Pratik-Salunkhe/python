{
 "cells": [
  {
   "cell_type": "markdown",
   "id": "36df7c8c",
   "metadata": {},
   "source": [
    "# DATA TYPES IN PYTHON "
   ]
  },
  {
   "cell_type": "markdown",
   "id": "dd686cce",
   "metadata": {},
   "source": [
    "- STRING\n",
    "- NUMERIC\n",
    "    - Integer\n",
    "    - Float\n",
    "- BOOLEAN\n",
    "- NONE\n",
    "- COLLECTION\n",
    "    - List\n",
    "    - Tuple\n",
    "    - Dictionary\n",
    "    - Set"
   ]
  },
  {
   "cell_type": "markdown",
   "id": "62f10eac",
   "metadata": {},
   "source": [
    "# 1) STRING"
   ]
  },
  {
   "cell_type": "markdown",
   "id": "8829a3a0",
   "metadata": {},
   "source": [
    "Strings in python are surrounded by either single quatation marks or double quatation marks\n",
    "\n",
    "- '         '\n",
    "- \"         \"\n",
    "- \"\"\"       \"\"\""
   ]
  },
  {
   "cell_type": "markdown",
   "id": "ff19d8de",
   "metadata": {},
   "source": [
    "###### - Python has a set of built-in methods that you can use on strings."
   ]
  },
  {
   "cell_type": "markdown",
   "id": "17437a24",
   "metadata": {},
   "source": [
    "- `Method------------------->Description`\n",
    "    - `capitalize()`\tConverts the first character to upper case\n",
    "    - `casefold()`\tConverts string into lower case\n",
    "    - `center()`\tReturns a centered string\n",
    "    - `count()`\tReturns the number of times a specified value occurs in a string\n",
    "    - `encode()`\tReturns an encoded version of the string\n",
    "    - `endswith()`\tReturns true if the string ends with the specified value\n",
    "    - `expandtabs()`\tSets the tab size of the string\n",
    "    - `find()`\tSearches the string for a specified value and returns the position of where it was found\n",
    "    - `format()`\tFormats specified values in a string\n",
    "    - `format_map()`\tFormats specified values in a string\n",
    "    - `index()`\tSearches the string for a specified value and returns the position of where it was found\n",
    "    - `isalnum()`\tReturns True if all characters in the string are alphanumeric\n",
    "    - `isalpha()`\tReturns True if all characters in the string are in the alphabet\n",
    "    - `isascii()`\tReturns True if all characters in the string are ascii characters\n",
    "    - `isdecimal()`\tReturns True if all characters in the string are decimals\n",
    "    - `isdigit()`\tReturns True if all characters in the string are digits\n",
    "    - `isidentifier()`\tReturns True if the string is an identifier\n",
    "    - `islower()`\tReturns True if all characters in the string are lower case\n",
    "    - `isnumeric()`\tReturns True if all characters in the string are numeric\n",
    "    - `isprintable()`\tReturns True if all characters in the string are printable\n",
    "    - `isspace()`\tReturns True if all characters in the string are whitespaces\n",
    "    - `istitle()`\tReturns True if the string follows the rules of a title\n",
    "    - `isupper()`\tReturns True if all characters in the string are upper case\n",
    "    - `join()`\tConverts the elements of an iterable into a string\n",
    "    - `ljust()`\tReturns a left justified version of the string\n",
    "    - `lower()`\tConverts a string into lower case\n",
    "    - `lstrip()`\tReturns a left trim version of the string\n",
    "    - `maketrans()`\tReturns a translation table to be used in translations\n",
    "    - `partition()`\tReturns a tuple where the string is parted into three parts\n",
    "    - `replace()`\tReturns a string where a specified value is replaced with a specified value\n",
    "    - `rfind()`\tSearches the string for a specified value and returns the last position of where it was found\n",
    "    - `rindex()`\tSearches the string for a specified value and returns the last position of where it was found\n",
    "    - `rjust()`\tReturns a right justified version of the string\n",
    "    - `rpartition()`\tReturns a tuple where the string is parted into three parts\n",
    "    - `rsplit()`\tSplits the string at the specified separator, and returns a list\n",
    "    - `rstrip()`\tReturns a right trim version of the string\n",
    "    - `split()`\tSplits the string at the specified separator, and returns a list\n",
    "    - `splitlines()`\tSplits the string at line breaks and returns a list\n",
    "    - `startswith()`\tReturns true if the string starts with the specified value\n",
    "    - `strip()`\tReturns a trimmed version of the string\n",
    "    - `swapcase()`\tSwaps cases, lower case becomes upper case and vice versa\n",
    "    - `title()`\tConverts the first character of each word to upper case\n",
    "    - `translate()`\tReturns a translated string\n",
    "    - `upper()`\tConverts a string into upper case\n",
    "    - `zfill()`\tFills the string with a specified number of 0 values at the beginning"
   ]
  },
  {
   "cell_type": "markdown",
   "id": "1b0b78b9",
   "metadata": {},
   "source": [
    "# "
   ]
  },
  {
   "cell_type": "markdown",
   "id": "456eb10d",
   "metadata": {},
   "source": [
    "###### capitalize() Converts the first character to upper case"
   ]
  },
  {
   "cell_type": "code",
   "execution_count": 1,
   "id": "de39583c",
   "metadata": {},
   "outputs": [
    {
     "data": {
      "text/plain": [
       "'Hello, and welcome to my world.'"
      ]
     },
     "execution_count": 1,
     "metadata": {},
     "output_type": "execute_result"
    }
   ],
   "source": [
    "txt = \"hello, and welcome to my world.\"\n",
    "\n",
    "txt.capitalize()\n"
   ]
  },
  {
   "cell_type": "code",
   "execution_count": 2,
   "id": "2cbccc9f",
   "metadata": {},
   "outputs": [
    {
     "data": {
      "text/plain": [
       "'Python is fun!'"
      ]
     },
     "execution_count": 2,
     "metadata": {},
     "output_type": "execute_result"
    }
   ],
   "source": [
    "txt = \"python is FUN!\"\n",
    "\n",
    "txt.capitalize()"
   ]
  },
  {
   "cell_type": "code",
   "execution_count": 3,
   "id": "4e233790",
   "metadata": {},
   "outputs": [
    {
     "data": {
      "text/plain": [
       "'36 is my age.'"
      ]
     },
     "execution_count": 3,
     "metadata": {},
     "output_type": "execute_result"
    }
   ],
   "source": [
    "txt = \"36 is my age.\"\n",
    "\n",
    "txt.capitalize()"
   ]
  },
  {
   "cell_type": "markdown",
   "id": "464ca449",
   "metadata": {},
   "source": [
    "###### casefold() Converts string into lower case"
   ]
  },
  {
   "cell_type": "code",
   "execution_count": 5,
   "id": "1cee1ccd",
   "metadata": {},
   "outputs": [
    {
     "data": {
      "text/plain": [
       "'hello, and welcome to my world!'"
      ]
     },
     "execution_count": 5,
     "metadata": {},
     "output_type": "execute_result"
    }
   ],
   "source": [
    "txt = \"Hello, And Welcome To My World!\"\n",
    "\n",
    "txt.casefold()"
   ]
  },
  {
   "cell_type": "markdown",
   "id": "66048b1e",
   "metadata": {},
   "source": [
    "###### center()\tReturns a centered string"
   ]
  },
  {
   "cell_type": "raw",
   "id": "cdf9c339",
   "metadata": {},
   "source": [
    "SYNTAX\n",
    "\n",
    "string.center(length, character)\n",
    "\n",
    "length\tRequired. The length of the returned string\n",
    "character\tOptional. The character to fill the missing space on each side. Default is \" \" (space)"
   ]
  },
  {
   "cell_type": "code",
   "execution_count": 8,
   "id": "bf40fa22",
   "metadata": {},
   "outputs": [
    {
     "data": {
      "text/plain": [
       "'       banana       '"
      ]
     },
     "execution_count": 8,
     "metadata": {},
     "output_type": "execute_result"
    }
   ],
   "source": [
    "txt = \"banana\"\n",
    "\n",
    "txt.center(20)"
   ]
  },
  {
   "cell_type": "code",
   "execution_count": 6,
   "id": "35f2672a",
   "metadata": {},
   "outputs": [
    {
     "data": {
      "text/plain": [
       "'OOOOOOObananaOOOOOOO'"
      ]
     },
     "execution_count": 6,
     "metadata": {},
     "output_type": "execute_result"
    }
   ],
   "source": [
    "txt = \"banana\"\n",
    "\n",
    "txt.center(20, \"O\")"
   ]
  },
  {
   "cell_type": "code",
   "execution_count": 11,
   "id": "5cdc3ead",
   "metadata": {},
   "outputs": [
    {
     "data": {
      "text/plain": [
       "'3333Hello, And Welcome To My World!33333'"
      ]
     },
     "execution_count": 11,
     "metadata": {},
     "output_type": "execute_result"
    }
   ],
   "source": [
    "txt = \"Hello, And Welcome To My World!\"\n",
    "txt.center(40,\"3\")"
   ]
  },
  {
   "cell_type": "markdown",
   "id": "53d32860",
   "metadata": {},
   "source": [
    "###### count()\tReturns the number of times a specified value occurs in a string"
   ]
  },
  {
   "cell_type": "raw",
   "id": "213d8a95",
   "metadata": {},
   "source": [
    "SYNTAX\n",
    "\n",
    "string.count(value, start, end)\n",
    "\n",
    "\n",
    "value\tRequired. A String. The string to value to search for\n",
    "start\tOptional. An Integer. The position to start the search. Default is 0\n",
    "end\tOptional. An Integer. The position to end the search. Default is the end of the string\n"
   ]
  },
  {
   "cell_type": "code",
   "execution_count": 15,
   "id": "4ee4794f",
   "metadata": {},
   "outputs": [
    {
     "data": {
      "text/plain": [
       "4"
      ]
     },
     "execution_count": 15,
     "metadata": {},
     "output_type": "execute_result"
    }
   ],
   "source": [
    "txt = \"Hello, And Welcome To My World!\"\n",
    "txt.count(\"o\")"
   ]
  },
  {
   "cell_type": "code",
   "execution_count": 16,
   "id": "a60dc0c1",
   "metadata": {},
   "outputs": [
    {
     "data": {
      "text/plain": [
       "0"
      ]
     },
     "execution_count": 16,
     "metadata": {},
     "output_type": "execute_result"
    }
   ],
   "source": [
    "txt = \"Hello, And Welcome To My World! Hello, And Welcome To My World! Hello, And Welcome To My World!\"\n",
    "txt.count(\"my\")"
   ]
  },
  {
   "cell_type": "code",
   "execution_count": 17,
   "id": "5118dd45",
   "metadata": {},
   "outputs": [
    {
     "data": {
      "text/plain": [
       "3"
      ]
     },
     "execution_count": 17,
     "metadata": {},
     "output_type": "execute_result"
    }
   ],
   "source": [
    "txt = \"Hello, And Welcome To My World! Hello, And Welcome To My World! Hello, And Welcome To My World!\"\n",
    "txt.count(\"My\")"
   ]
  },
  {
   "cell_type": "code",
   "execution_count": 27,
   "id": "b3e3fa09",
   "metadata": {},
   "outputs": [
    {
     "data": {
      "text/plain": [
       "2"
      ]
     },
     "execution_count": 27,
     "metadata": {},
     "output_type": "execute_result"
    }
   ],
   "source": [
    "txt = \"I love apples, apple are my favorite fruit\"\n",
    "\n",
    "txt.count(\"apple\", 0, 24)"
   ]
  },
  {
   "cell_type": "code",
   "execution_count": 28,
   "id": "62f6840f",
   "metadata": {},
   "outputs": [
    {
     "data": {
      "text/plain": [
       "2"
      ]
     },
     "execution_count": 28,
     "metadata": {},
     "output_type": "execute_result"
    }
   ],
   "source": [
    "txt = \"I love apples, apple are my favorite fruit\"\n",
    "\n",
    "txt.count(\"apple\", 7, 24)"
   ]
  },
  {
   "cell_type": "code",
   "execution_count": 29,
   "id": "c9072557",
   "metadata": {},
   "outputs": [
    {
     "data": {
      "text/plain": [
       "1"
      ]
     },
     "execution_count": 29,
     "metadata": {},
     "output_type": "execute_result"
    }
   ],
   "source": [
    "txt = \"I love apples, apple are my favorite fruit\"\n",
    "\n",
    "txt.count(\"apple\", 8, 24)"
   ]
  },
  {
   "cell_type": "code",
   "execution_count": 30,
   "id": "a92dee2b",
   "metadata": {},
   "outputs": [
    {
     "data": {
      "text/plain": [
       "0"
      ]
     },
     "execution_count": 30,
     "metadata": {},
     "output_type": "execute_result"
    }
   ],
   "source": [
    "txt = \"I love apples, apple are my favorite fruit\"\n",
    "\n",
    "txt.count(\"apple\", 17, 24)"
   ]
  },
  {
   "cell_type": "markdown",
   "id": "783713f7",
   "metadata": {},
   "source": [
    "###### encode()\tReturns an encoded version of the string"
   ]
  },
  {
   "cell_type": "raw",
   "id": "e64e0169",
   "metadata": {},
   "source": [
    "SYNTAX\n",
    "\n",
    "string.encode(encoding=encoding, errors=errors)\n",
    "\n",
    "\n",
    "- encoding\tOptional. A String specifying the encoding to use. Default is UTF-8\n",
    "- errors\tOptional. A String specifying the error method. Legal values are:\n",
    "    - 'backslashreplace'\t- uses a backslash instead of the character that could not be encoded\n",
    "    - 'ignore'\t- ignores the characters that cannot be encoded\n",
    "    - 'namereplace'\t- replaces the character with a text explaining the character\n",
    "    - 'strict'\t- Default, raises an error on failure\n",
    "    - 'replace'\t- replaces the character with a questionmark\n",
    "    - 'xmlcharrefreplace'\t- replaces the character with an xml character"
   ]
  },
  {
   "cell_type": "code",
   "execution_count": null,
   "id": "e1fd6f5b",
   "metadata": {},
   "outputs": [],
   "source": [
    "txt = \"My name is Ståle\"\n",
    "\n",
    "txt.encode()"
   ]
  },
  {
   "cell_type": "code",
   "execution_count": 33,
   "id": "268ecb2f",
   "metadata": {},
   "outputs": [
    {
     "data": {
      "text/plain": [
       "b'I love apples, apple are my favorite fruit'"
      ]
     },
     "execution_count": 33,
     "metadata": {},
     "output_type": "execute_result"
    }
   ],
   "source": [
    "txt = \"I love apples, apple are my favorite fruit\"\n",
    "\n",
    "txt.encode()"
   ]
  },
  {
   "cell_type": "code",
   "execution_count": 34,
   "id": "380d2274",
   "metadata": {},
   "outputs": [
    {
     "name": "stdout",
     "output_type": "stream",
     "text": [
      "b'I love apples, apple are my favorite fruit'\n",
      "b'I love apples, apple are my favorite fruit'\n",
      "b'I love apples, apple are my favorite fruit'\n",
      "b'I love apples, apple are my favorite fruit'\n",
      "b'I love apples, apple are my favorite fruit'\n"
     ]
    }
   ],
   "source": [
    "txt = \"I love apples, apple are my favorite fruit\"\n",
    "\n",
    "print(txt.encode(encoding=\"ascii\",errors=\"backslashreplace\"))\n",
    "print(txt.encode(encoding=\"ascii\",errors=\"ignore\"))\n",
    "print(txt.encode(encoding=\"ascii\",errors=\"namereplace\"))\n",
    "print(txt.encode(encoding=\"ascii\",errors=\"replace\"))\n",
    "print(txt.encode(encoding=\"ascii\",errors=\"xmlcharrefreplace\"))"
   ]
  },
  {
   "cell_type": "code",
   "execution_count": 35,
   "id": "c0381355",
   "metadata": {},
   "outputs": [
    {
     "name": "stdout",
     "output_type": "stream",
     "text": [
      "b'My name is St\\\\xe5le'\n",
      "b'My name is Stle'\n",
      "b'My name is St\\\\N{LATIN SMALL LETTER A WITH RING ABOVE}le'\n",
      "b'My name is St?le'\n",
      "b'My name is St&#229;le'\n"
     ]
    }
   ],
   "source": [
    "txt = \"My name is Ståle\"\n",
    "\n",
    "print(txt.encode(encoding=\"ascii\",errors=\"backslashreplace\"))\n",
    "print(txt.encode(encoding=\"ascii\",errors=\"ignore\"))\n",
    "print(txt.encode(encoding=\"ascii\",errors=\"namereplace\"))\n",
    "print(txt.encode(encoding=\"ascii\",errors=\"replace\"))\n",
    "print(txt.encode(encoding=\"ascii\",errors=\"xmlcharrefreplace\"))"
   ]
  },
  {
   "cell_type": "markdown",
   "id": "d2f660f2",
   "metadata": {},
   "source": [
    "###### endswith()\tReturns true if the string ends with the specified value"
   ]
  },
  {
   "cell_type": "raw",
   "id": "34880218",
   "metadata": {},
   "source": [
    "SYNTAX\n",
    "\n",
    "string.endswith(value, start, end)\n",
    "\n",
    "\n",
    "\n",
    "value\tRequired. The value to check if the string ends with\n",
    "start\tOptional. An Integer specifying at which position to start the search\n",
    "end\tOptional. An Integer specifying at which position to end the search"
   ]
  },
  {
   "cell_type": "code",
   "execution_count": 39,
   "id": "e8264314",
   "metadata": {},
   "outputs": [
    {
     "data": {
      "text/plain": [
       "True"
      ]
     },
     "execution_count": 39,
     "metadata": {},
     "output_type": "execute_result"
    }
   ],
   "source": [
    "txt = \"Hello, welcome to my world.\"\n",
    "\n",
    "txt.endswith(\".\")"
   ]
  },
  {
   "cell_type": "code",
   "execution_count": 40,
   "id": "6e9f3659",
   "metadata": {},
   "outputs": [
    {
     "data": {
      "text/plain": [
       "True"
      ]
     },
     "execution_count": 40,
     "metadata": {},
     "output_type": "execute_result"
    }
   ],
   "source": [
    "txt = \"Hello, welcome to my world\"\n",
    "\n",
    "txt.endswith(\"rld\")"
   ]
  },
  {
   "cell_type": "code",
   "execution_count": 43,
   "id": "03a83027",
   "metadata": {},
   "outputs": [
    {
     "data": {
      "text/plain": [
       "False"
      ]
     },
     "execution_count": 43,
     "metadata": {},
     "output_type": "execute_result"
    }
   ],
   "source": [
    "txt = \"Hello, welcome to my world\"\n",
    "\n",
    "txt.endswith(\"myworld\")"
   ]
  },
  {
   "cell_type": "code",
   "execution_count": 44,
   "id": "1a094db0",
   "metadata": {},
   "outputs": [
    {
     "data": {
      "text/plain": [
       "True"
      ]
     },
     "execution_count": 44,
     "metadata": {},
     "output_type": "execute_result"
    }
   ],
   "source": [
    "txt = \"Hello, welcome to my world\"\n",
    "\n",
    "txt.endswith(\"my world\")"
   ]
  },
  {
   "cell_type": "code",
   "execution_count": 55,
   "id": "ab632939",
   "metadata": {},
   "outputs": [
    {
     "data": {
      "text/plain": [
       "True"
      ]
     },
     "execution_count": 55,
     "metadata": {},
     "output_type": "execute_result"
    }
   ],
   "source": [
    "#Check if position 5 to 27 ends with the phrase \"my world.\":\n",
    "\n",
    "txt = \"Hello, welcome to my world.\"\n",
    "\n",
    "txt.endswith(\"my world.\", 5, 27)\n"
   ]
  },
  {
   "cell_type": "code",
   "execution_count": 56,
   "id": "0e40c0f5",
   "metadata": {},
   "outputs": [
    {
     "data": {
      "text/plain": [
       "False"
      ]
     },
     "execution_count": 56,
     "metadata": {},
     "output_type": "execute_result"
    }
   ],
   "source": [
    "# Check if position 19 to 27 ends with the phrase \"my world.\":\n",
    "\n",
    "txt = \"Hello, welcome to my world.\"\n",
    "\n",
    "txt.endswith(\"my world.\", 19, 27)"
   ]
  },
  {
   "cell_type": "markdown",
   "id": "a091e6d3",
   "metadata": {},
   "source": [
    "###### expandtabs()\tSets the tab size of the string"
   ]
  },
  {
   "cell_type": "raw",
   "id": "3ba990bb",
   "metadata": {},
   "source": [
    "SYNTAX\n",
    "\n",
    "string.expandtabs(tabsize)\n",
    "\n",
    "tabsize\tOptional. A number specifying the tabsize. Default tabsize is 8"
   ]
  },
  {
   "cell_type": "code",
   "execution_count": 60,
   "id": "22153f7c",
   "metadata": {},
   "outputs": [
    {
     "name": "stdout",
     "output_type": "stream",
     "text": [
      "H\te\tl\tl\to\n",
      "H       e       l       l       o\n",
      "H e l l o\n",
      "H   e   l   l   o\n",
      "H         e         l         l         o\n"
     ]
    }
   ],
   "source": [
    "txt = \"H\\te\\tl\\tl\\to\"\n",
    "\n",
    "print(txt)\n",
    "print(txt.expandtabs())\n",
    "print(txt.expandtabs(2))\n",
    "print(txt.expandtabs(4))\n",
    "print(txt.expandtabs(10))"
   ]
  },
  {
   "cell_type": "markdown",
   "id": "91eae86d",
   "metadata": {},
   "source": [
    "###### find()\tSearches the string for a specified value and returns the position of where it was found"
   ]
  },
  {
   "cell_type": "raw",
   "id": "08c95e58",
   "metadata": {},
   "source": [
    "SYNTAX\n",
    "\n",
    "string.find(value, start, end)\n",
    "\n",
    "value\tRequired. The value to search for\n",
    "start\tOptional. Where to start the search. Default is 0\n",
    "end\tOptional. Where to end the search. Default is to the end of the string"
   ]
  },
  {
   "cell_type": "code",
   "execution_count": 68,
   "id": "6d7e78bd",
   "metadata": {},
   "outputs": [
    {
     "data": {
      "text/plain": [
       "7"
      ]
     },
     "execution_count": 68,
     "metadata": {},
     "output_type": "execute_result"
    }
   ],
   "source": [
    "txt = \"Hello, welcome to my world.\"\n",
    "txt.find(\"welcome\")"
   ]
  },
  {
   "cell_type": "code",
   "execution_count": 70,
   "id": "694aa90a",
   "metadata": {},
   "outputs": [
    {
     "data": {
      "text/plain": [
       "1"
      ]
     },
     "execution_count": 70,
     "metadata": {},
     "output_type": "execute_result"
    }
   ],
   "source": [
    "# Where in the text is the first occurrence of the letter \"e\"\n",
    "\n",
    "txt = \"Hello, welcome to my world.\"\n",
    "txt.find(\"e\")"
   ]
  },
  {
   "cell_type": "code",
   "execution_count": 71,
   "id": "8768f094",
   "metadata": {},
   "outputs": [
    {
     "data": {
      "text/plain": [
       "8"
      ]
     },
     "execution_count": 71,
     "metadata": {},
     "output_type": "execute_result"
    }
   ],
   "source": [
    "# Where in the text is the first occurrence of the letter \"e\" when you only search between position 5 and 10\n",
    "\n",
    "txt = \"Hello, welcome to my world.\"\n",
    "txt.find(\"e\", 5, 10)"
   ]
  },
  {
   "cell_type": "code",
   "execution_count": 74,
   "id": "5b6e1885",
   "metadata": {},
   "outputs": [
    {
     "data": {
      "text/plain": [
       "23"
      ]
     },
     "execution_count": 74,
     "metadata": {},
     "output_type": "execute_result"
    }
   ],
   "source": [
    "txt = \"Hello, welcome to my world.\"\n",
    "txt.find(\"r\", 15, 27)"
   ]
  },
  {
   "cell_type": "code",
   "execution_count": 77,
   "id": "03cbb0e9",
   "metadata": {},
   "outputs": [
    {
     "name": "stdout",
     "output_type": "stream",
     "text": [
      "23 index fing by find method\n",
      "23 index find by index method\n"
     ]
    }
   ],
   "source": [
    "txt = \"Hello, welcome to my world.\"\n",
    "\n",
    "print(txt.find(\"r\"),\"index fing by find method\")\n",
    "print(txt.index(\"r\"),\"index find by index method\")"
   ]
  },
  {
   "cell_type": "markdown",
   "id": "1d7ca3ac",
   "metadata": {},
   "source": [
    "###### format()\tFormats specified values in a string"
   ]
  },
  {
   "cell_type": "raw",
   "id": "1c6bcbc1",
   "metadata": {},
   "source": [
    "string.format(value1, value2...)\n",
    "\n",
    "value1, value2...\tRequired. One or more values that should be formatted and inserted in the string. The values are either a list of values separated by commas, a key=value list, or a combination of both. The values can be of any data type."
   ]
  },
  {
   "cell_type": "code",
   "execution_count": 79,
   "id": "2ae5bfbc",
   "metadata": {},
   "outputs": [
    {
     "data": {
      "text/plain": [
       "'For only 49.00 dollars!'"
      ]
     },
     "execution_count": 79,
     "metadata": {},
     "output_type": "execute_result"
    }
   ],
   "source": [
    "txt = \"For only {price:.2f} dollars!\"\n",
    "txt.format(price = 49)"
   ]
  },
  {
   "cell_type": "code",
   "execution_count": 80,
   "id": "7f482757",
   "metadata": {},
   "outputs": [],
   "source": [
    "txt1 = \"My name is {fname}, I'm {age}\".format(fname = \"John\", age = 36)\n",
    "txt2 = \"My name is {0}, I'm {1}\".format(\"John\",36)\n",
    "txt3 = \"My name is {}, I'm {}\".format(\"John\",36)"
   ]
  },
  {
   "cell_type": "code",
   "execution_count": 81,
   "id": "c0bd90e8",
   "metadata": {},
   "outputs": [
    {
     "data": {
      "text/plain": [
       "(\"My name is John, I'm 36\",\n",
       " \"My name is John, I'm 36\",\n",
       " \"My name is John, I'm 36\")"
      ]
     },
     "execution_count": 81,
     "metadata": {},
     "output_type": "execute_result"
    }
   ],
   "source": [
    "txt1,txt2,txt3"
   ]
  },
  {
   "cell_type": "markdown",
   "id": "a0b0ec47",
   "metadata": {},
   "source": [
    "###### Formatting Types"
   ]
  },
  {
   "cell_type": "raw",
   "id": "f319e163",
   "metadata": {},
   "source": [
    "\n",
    "Inside the placeholders you can add a formatting type to format the result:\n",
    "\n",
    ":<\t\tLeft aligns the result (within the available space)\n",
    ":>\t\tRight aligns the result (within the available space)\n",
    ":^\t\tCenter aligns the result (within the available space)\n",
    ":=\t\tPlaces the sign to the left most position\n",
    ":+\t\tUse a plus sign to indicate if the result is positive or negative\n",
    ":-\t\tUse a minus sign for negative values only\n",
    ": \t\tUse a space to insert an extra space before positive numbers (and a minus sign before negative numbers)\n",
    ":,\t\tUse a comma as a thousand separator\n",
    ":_\t\tUse a underscore as a thousand separator\n",
    ":b\t\tBinary format\n",
    ":c\t\tConverts the value into the corresponding unicode character\n",
    ":d\t\tDecimal format\n",
    ":e\t\tScientific format, with a lower case e\n",
    ":E\t\tScientific format, with an upper case E\n",
    ":f\t\tFix point number format\n",
    ":F\t\tFix point number format, in uppercase format (show inf and nan as INF and NAN)\n",
    ":g\t\tGeneral format\n",
    ":G\t\tGeneral format (using a upper case E for scientific notations)\n",
    ":o\t\tOctal format\n",
    ":x\t\tHex format, lower case\n",
    ":X\t\tHex format, upper case\n",
    ":n\t\tNumber format\n",
    ":%\t\tPercentage format"
   ]
  },
  {
   "cell_type": "markdown",
   "id": "22917b4b",
   "metadata": {},
   "source": [
    "###### index()\tSearches the string for a specified value and returns the position of where it was found"
   ]
  },
  {
   "cell_type": "raw",
   "id": "46118d90",
   "metadata": {},
   "source": [
    "string.index(value, start, end)\n",
    "\n",
    "value\tRequired. The value to search for\n",
    "start\tOptional. Where to start the search. Default is 0\n",
    "end\tOptional. Where to end the search. Default is to the end of the string"
   ]
  },
  {
   "cell_type": "code",
   "execution_count": 82,
   "id": "ff8fc66f",
   "metadata": {},
   "outputs": [
    {
     "data": {
      "text/plain": [
       "7"
      ]
     },
     "execution_count": 82,
     "metadata": {},
     "output_type": "execute_result"
    }
   ],
   "source": [
    "txt = \"Hello, welcome to my world.\"\n",
    "txt.index(\"welcome\")"
   ]
  },
  {
   "cell_type": "code",
   "execution_count": 83,
   "id": "2b273b4a",
   "metadata": {},
   "outputs": [
    {
     "data": {
      "text/plain": [
       "1"
      ]
     },
     "execution_count": 83,
     "metadata": {},
     "output_type": "execute_result"
    }
   ],
   "source": [
    "# Where in the text is the first occurrence of the letter \"e\"?:\n",
    "\n",
    "txt = \"Hello, welcome to my world.\"\n",
    "txt.index(\"e\")"
   ]
  },
  {
   "cell_type": "code",
   "execution_count": 84,
   "id": "2dc909c2",
   "metadata": {},
   "outputs": [
    {
     "data": {
      "text/plain": [
       "8"
      ]
     },
     "execution_count": 84,
     "metadata": {},
     "output_type": "execute_result"
    }
   ],
   "source": [
    "# Where in the text is the first occurrence of the letter \"e\" when you only search between position 5 and 10?:\n",
    "\n",
    "txt = \"Hello, welcome to my world.\"\n",
    "txt.index(\"e\", 5, 10)\n"
   ]
  },
  {
   "cell_type": "markdown",
   "id": "73f55d2a",
   "metadata": {},
   "source": [
    "###### isalnum()\tReturns True if all characters in the string are alphanumeric"
   ]
  },
  {
   "cell_type": "code",
   "execution_count": 85,
   "id": "d02be750",
   "metadata": {},
   "outputs": [
    {
     "data": {
      "text/plain": [
       "True"
      ]
     },
     "execution_count": 85,
     "metadata": {},
     "output_type": "execute_result"
    }
   ],
   "source": [
    "# Check if all the characters in the text are alphanumeric:\n",
    "\n",
    "txt = \"Company12\"\n",
    "txt.isalnum()\n"
   ]
  },
  {
   "cell_type": "code",
   "execution_count": 86,
   "id": "9ed05bca",
   "metadata": {},
   "outputs": [
    {
     "data": {
      "text/plain": [
       "False"
      ]
     },
     "execution_count": 86,
     "metadata": {},
     "output_type": "execute_result"
    }
   ],
   "source": [
    "txt = \"Company 12\"\n",
    "txt.isalnum()"
   ]
  },
  {
   "cell_type": "markdown",
   "id": "47dbb5a3",
   "metadata": {},
   "source": [
    "###### isalpha()\tReturns True if all characters in the string are in the alphabet"
   ]
  },
  {
   "cell_type": "code",
   "execution_count": 87,
   "id": "2714955f",
   "metadata": {},
   "outputs": [
    {
     "data": {
      "text/plain": [
       "False"
      ]
     },
     "execution_count": 87,
     "metadata": {},
     "output_type": "execute_result"
    }
   ],
   "source": [
    "# Check if all the characters in the text is alphabetic:\n",
    "\n",
    "txt = \"Company10\"\n",
    "txt.isalpha()"
   ]
  },
  {
   "cell_type": "code",
   "execution_count": 88,
   "id": "b57b17a1",
   "metadata": {},
   "outputs": [
    {
     "data": {
      "text/plain": [
       "False"
      ]
     },
     "execution_count": 88,
     "metadata": {},
     "output_type": "execute_result"
    }
   ],
   "source": [
    "txt = \"Company 10\"\n",
    "txt.isalpha()"
   ]
  },
  {
   "cell_type": "markdown",
   "id": "bd6866b9",
   "metadata": {},
   "source": [
    "###### isascii()\tReturns True if all characters in the string are ascii characters"
   ]
  },
  {
   "cell_type": "code",
   "execution_count": 91,
   "id": "913c30ea",
   "metadata": {},
   "outputs": [
    {
     "data": {
      "text/plain": [
       "True"
      ]
     },
     "execution_count": 91,
     "metadata": {},
     "output_type": "execute_result"
    }
   ],
   "source": [
    "# Check if all the characters in the text are ascii characters:\n",
    "\n",
    "txt = \"Company123\"\n",
    "txt.isascii()"
   ]
  },
  {
   "cell_type": "markdown",
   "id": "c6f6f72c",
   "metadata": {},
   "source": [
    "###### isdecimal()\tReturns True if all characters in the string are decimals"
   ]
  },
  {
   "cell_type": "code",
   "execution_count": 92,
   "id": "25b7bee8",
   "metadata": {},
   "outputs": [
    {
     "data": {
      "text/plain": [
       "True"
      ]
     },
     "execution_count": 92,
     "metadata": {},
     "output_type": "execute_result"
    }
   ],
   "source": [
    "# Check if all the characters in a string are decimals (0-9):\n",
    "\n",
    "txt = \"1234\"\n",
    "txt.isdecimal()"
   ]
  },
  {
   "cell_type": "markdown",
   "id": "4a8193bf",
   "metadata": {},
   "source": [
    "###### isdigit()\tReturns True if all characters in the string are digits"
   ]
  },
  {
   "cell_type": "code",
   "execution_count": 96,
   "id": "dd99d8aa",
   "metadata": {},
   "outputs": [
    {
     "data": {
      "text/plain": [
       "True"
      ]
     },
     "execution_count": 96,
     "metadata": {},
     "output_type": "execute_result"
    }
   ],
   "source": [
    "# Check if all the characters in the text are digits:\n",
    "\n",
    "txt = \"50800\"\n",
    "txt.isdigit()"
   ]
  },
  {
   "cell_type": "markdown",
   "id": "0e466610",
   "metadata": {},
   "source": [
    "###### isidentifier()\tReturns True if the string is an identifier"
   ]
  },
  {
   "cell_type": "code",
   "execution_count": 98,
   "id": "7a652d4e",
   "metadata": {},
   "outputs": [
    {
     "data": {
      "text/plain": [
       "True"
      ]
     },
     "execution_count": 98,
     "metadata": {},
     "output_type": "execute_result"
    }
   ],
   "source": [
    "txt = \"Demo\"\n",
    "txt.isidentifier()"
   ]
  },
  {
   "cell_type": "code",
   "execution_count": 100,
   "id": "4d6c05b9",
   "metadata": {},
   "outputs": [
    {
     "name": "stdout",
     "output_type": "stream",
     "text": [
      "True\n",
      "True\n",
      "False\n",
      "False\n"
     ]
    }
   ],
   "source": [
    "a = \"MyFolder\"\n",
    "b = \"Demo002\"\n",
    "c = \"2bring\"\n",
    "d = \"my demo\"\n",
    "\n",
    "print(a.isidentifier())\n",
    "print(b.isidentifier())\n",
    "print(c.isidentifier())\n",
    "print(d.isidentifier())"
   ]
  },
  {
   "cell_type": "markdown",
   "id": "d5e8a8b9",
   "metadata": {},
   "source": [
    "###### islower()\tReturns True if all characters in the string are lower case"
   ]
  },
  {
   "cell_type": "code",
   "execution_count": 103,
   "id": "cc406492",
   "metadata": {},
   "outputs": [
    {
     "data": {
      "text/plain": [
       "True"
      ]
     },
     "execution_count": 103,
     "metadata": {},
     "output_type": "execute_result"
    }
   ],
   "source": [
    "# Check if all the characters in the text are in lower case:\n",
    "\n",
    "txt = \"hello world!\"\n",
    "txt.islower()"
   ]
  },
  {
   "cell_type": "code",
   "execution_count": 102,
   "id": "b01fcbba",
   "metadata": {},
   "outputs": [
    {
     "name": "stdout",
     "output_type": "stream",
     "text": [
      "False\n",
      "True\n",
      "False\n"
     ]
    }
   ],
   "source": [
    "# Check if all the characters in the texts are in lower case:\n",
    "\n",
    "a = \"Hello world!\"\n",
    "b = \"hello 123\"\n",
    "c = \"mynameisPeter\"\n",
    "\n",
    "print(a.islower())\n",
    "print(b.islower())\n",
    "print(c.islower())"
   ]
  },
  {
   "cell_type": "markdown",
   "id": "14bce68a",
   "metadata": {},
   "source": [
    "###### isupper()\tReturns True if all characters in the string are upper case"
   ]
  },
  {
   "cell_type": "code",
   "execution_count": 105,
   "id": "92de753e",
   "metadata": {},
   "outputs": [
    {
     "data": {
      "text/plain": [
       "True"
      ]
     },
     "execution_count": 105,
     "metadata": {},
     "output_type": "execute_result"
    }
   ],
   "source": [
    "# Check if all the characters in the text are in upper case:\n",
    "\n",
    "txt = \"THIS IS NOW!\"\n",
    "txt.isupper()\n"
   ]
  },
  {
   "cell_type": "code",
   "execution_count": 106,
   "id": "7fb8ed0e",
   "metadata": {},
   "outputs": [
    {
     "name": "stdout",
     "output_type": "stream",
     "text": [
      "False\n",
      "False\n",
      "True\n"
     ]
    }
   ],
   "source": [
    "# Check if all the characters in the texts are in upper case:\n",
    "\n",
    "a = \"Hello World!\"\n",
    "b = \"hello 123\"\n",
    "c = \"MY NAME IS PETER\"\n",
    "\n",
    "print(a.isupper())\n",
    "print(b.isupper())\n",
    "print(c.isupper())"
   ]
  },
  {
   "cell_type": "markdown",
   "id": "632a6017",
   "metadata": {},
   "source": [
    "###### isnumeric()\tReturns True if all characters in the string are numeric"
   ]
  },
  {
   "cell_type": "code",
   "execution_count": 107,
   "id": "f9b3762e",
   "metadata": {},
   "outputs": [
    {
     "data": {
      "text/plain": [
       "True"
      ]
     },
     "execution_count": 107,
     "metadata": {},
     "output_type": "execute_result"
    }
   ],
   "source": [
    "# Check if all the characters in the text are numeric:\n",
    "\n",
    "txt = \"565543\"\n",
    "txt.isnumeric()"
   ]
  },
  {
   "cell_type": "code",
   "execution_count": 109,
   "id": "f4552887",
   "metadata": {},
   "outputs": [
    {
     "name": "stdout",
     "output_type": "stream",
     "text": [
      "False\n",
      "False\n",
      "False\n"
     ]
    }
   ],
   "source": [
    "# Check if the characters are numeric:\n",
    "\n",
    "c = \"10km2\"\n",
    "d = \"-1\"\n",
    "e = \"1.5\"\n",
    "\n",
    "\n",
    "print(c.isnumeric())\n",
    "print(d.isnumeric())\n",
    "print(e.isnumeric())"
   ]
  },
  {
   "cell_type": "markdown",
   "id": "8bafb52c",
   "metadata": {},
   "source": [
    "###### isprintable()\tReturns True if all characters in the string are printable"
   ]
  },
  {
   "cell_type": "code",
   "execution_count": 111,
   "id": "5cc9b010",
   "metadata": {},
   "outputs": [
    {
     "data": {
      "text/plain": [
       "True"
      ]
     },
     "execution_count": 111,
     "metadata": {},
     "output_type": "execute_result"
    }
   ],
   "source": [
    "# Check if all the characters in the text are printable:\n",
    "\n",
    "txt = \"Hello! Are you #1?\"\n",
    "txt.isprintable()"
   ]
  },
  {
   "cell_type": "code",
   "execution_count": 117,
   "id": "99e08a9d",
   "metadata": {},
   "outputs": [
    {
     "data": {
      "text/plain": [
       "False"
      ]
     },
     "execution_count": 117,
     "metadata": {},
     "output_type": "execute_result"
    }
   ],
   "source": [
    "# Check if all the characters in the text are printable:\n",
    "\n",
    "txt = \"Hello! \\n Are you #1?\"\n",
    "txt.isprintable()"
   ]
  },
  {
   "cell_type": "markdown",
   "id": "321f6823",
   "metadata": {},
   "source": [
    "###### isspace()\tReturns True if all characters in the string are whitespaces"
   ]
  },
  {
   "cell_type": "code",
   "execution_count": 118,
   "id": "07d7f857",
   "metadata": {},
   "outputs": [
    {
     "data": {
      "text/plain": [
       "True"
      ]
     },
     "execution_count": 118,
     "metadata": {},
     "output_type": "execute_result"
    }
   ],
   "source": [
    "# Check if all the characters in the text are whitespaces:\n",
    "\n",
    "txt = \"   \"\n",
    "txt.isspace()"
   ]
  },
  {
   "cell_type": "code",
   "execution_count": 119,
   "id": "2741b336",
   "metadata": {},
   "outputs": [
    {
     "data": {
      "text/plain": [
       "False"
      ]
     },
     "execution_count": 119,
     "metadata": {},
     "output_type": "execute_result"
    }
   ],
   "source": [
    "# Check if all the characters in the text are whitespaces:\n",
    "\n",
    "txt = \"   s   \"\n",
    "txt.isspace()"
   ]
  },
  {
   "cell_type": "markdown",
   "id": "a355b4a0",
   "metadata": {},
   "source": [
    "###### istitle()\tReturns True if the string follows the rules of a title"
   ]
  },
  {
   "cell_type": "code",
   "execution_count": 120,
   "id": "4560a80b",
   "metadata": {},
   "outputs": [
    {
     "data": {
      "text/plain": [
       "True"
      ]
     },
     "execution_count": 120,
     "metadata": {},
     "output_type": "execute_result"
    }
   ],
   "source": [
    "# Check if each word start with an upper case letter:\n",
    "\n",
    "txt = \"Hello, And Welcome To My World!\"\n",
    "txt.istitle()"
   ]
  },
  {
   "cell_type": "code",
   "execution_count": 121,
   "id": "670f63dc",
   "metadata": {},
   "outputs": [
    {
     "name": "stdout",
     "output_type": "stream",
     "text": [
      "False\n",
      "True\n",
      "True\n",
      "True\n"
     ]
    }
   ],
   "source": [
    "# Check if each word start with an upper case letter:\n",
    "\n",
    "a = \"HELLO, AND WELCOME TO MY WORLD\"\n",
    "b = \"Hello\"\n",
    "c = \"22 Names\"\n",
    "d = \"This Is %'!?\"\n",
    "\n",
    "print(a.istitle())\n",
    "print(b.istitle())\n",
    "print(c.istitle())\n",
    "print(d.istitle())"
   ]
  },
  {
   "cell_type": "markdown",
   "id": "785115fb",
   "metadata": {},
   "source": [
    "###### join()\tConverts the elements of an iterable into a string"
   ]
  },
  {
   "cell_type": "code",
   "execution_count": 122,
   "id": "b26afae1",
   "metadata": {},
   "outputs": [
    {
     "data": {
      "text/plain": [
       "'John#Peter#Vicky'"
      ]
     },
     "execution_count": 122,
     "metadata": {},
     "output_type": "execute_result"
    }
   ],
   "source": [
    "# Join all items in a tuple into a string, using a hash character as separator:\n",
    "\n",
    "myTuple = (\"John\", \"Peter\", \"Vicky\")\n",
    "\"#\".join(myTuple)"
   ]
  },
  {
   "cell_type": "code",
   "execution_count": 126,
   "id": "38cd9d87",
   "metadata": {},
   "outputs": [
    {
     "data": {
      "text/plain": [
       "'nameTESTcountry'"
      ]
     },
     "execution_count": 126,
     "metadata": {},
     "output_type": "execute_result"
    }
   ],
   "source": [
    "# Join all items in a dictionary into a string, using the word \"TEST\" as separator:\n",
    "\n",
    "myDict = {\"name\": \"John\", \"country\": \"Norway\"}\n",
    "mySeparator = \"TEST\"\n",
    "\n",
    "mySeparator.join(myDict)"
   ]
  },
  {
   "cell_type": "markdown",
   "id": "b4f5a441",
   "metadata": {},
   "source": [
    "###### ljust()\tReturns a left justified version of the string"
   ]
  },
  {
   "cell_type": "code",
   "execution_count": 129,
   "id": "bfe8885f",
   "metadata": {},
   "outputs": [
    {
     "data": {
      "text/plain": [
       "'banana    '"
      ]
     },
     "execution_count": 129,
     "metadata": {},
     "output_type": "execute_result"
    }
   ],
   "source": [
    "# Return a 20 characters long, left justified version of the word \"banana\":\n",
    "\n",
    "txt = \"banana\"\n",
    "txt.ljust(10)"
   ]
  },
  {
   "cell_type": "code",
   "execution_count": 130,
   "id": "797a9207",
   "metadata": {},
   "outputs": [
    {
     "data": {
      "text/plain": [
       "'bananaOOOOOOOOOOOOOO'"
      ]
     },
     "execution_count": 130,
     "metadata": {},
     "output_type": "execute_result"
    }
   ],
   "source": [
    "# Using the letter \"O\" as the padding character:\n",
    "\n",
    "txt = \"banana\"\n",
    "txt.ljust(20, \"O\")"
   ]
  },
  {
   "cell_type": "markdown",
   "id": "f47428a0",
   "metadata": {},
   "source": [
    "###### rjust()\tReturns a right justified version of the string"
   ]
  },
  {
   "cell_type": "code",
   "execution_count": 131,
   "id": "f74a0420",
   "metadata": {},
   "outputs": [
    {
     "data": {
      "text/plain": [
       "'    banana'"
      ]
     },
     "execution_count": 131,
     "metadata": {},
     "output_type": "execute_result"
    }
   ],
   "source": [
    "# Return a 20 characters long, right justified version of the word \"banana\":\n",
    "\n",
    "txt = \"banana\"\n",
    "txt.rjust(10)"
   ]
  },
  {
   "cell_type": "code",
   "execution_count": 132,
   "id": "ee3f949a",
   "metadata": {},
   "outputs": [
    {
     "data": {
      "text/plain": [
       "'OOOOOOOOOOOOOObanana'"
      ]
     },
     "execution_count": 132,
     "metadata": {},
     "output_type": "execute_result"
    }
   ],
   "source": [
    "# Using the letter \"O\" as the padding character:\n",
    "\n",
    "txt = \"banana\"\n",
    "txt.rjust(20, \"O\")"
   ]
  },
  {
   "cell_type": "markdown",
   "id": "a55f8b36",
   "metadata": {},
   "source": [
    "###### lower()\tConverts a string into lower case"
   ]
  },
  {
   "cell_type": "code",
   "execution_count": 133,
   "id": "08ca676e",
   "metadata": {},
   "outputs": [
    {
     "data": {
      "text/plain": [
       "'hello my friends'"
      ]
     },
     "execution_count": 133,
     "metadata": {},
     "output_type": "execute_result"
    }
   ],
   "source": [
    "# Lower case the string:\n",
    "\n",
    "txt = \"Hello my FRIENDS\"\n",
    "txt.lower()"
   ]
  },
  {
   "cell_type": "markdown",
   "id": "f45f9b97",
   "metadata": {},
   "source": [
    "###### upper()\tConverts a string into upper case"
   ]
  },
  {
   "cell_type": "code",
   "execution_count": 134,
   "id": "30af9166",
   "metadata": {},
   "outputs": [
    {
     "data": {
      "text/plain": [
       "'HELLO MY FRIENDS'"
      ]
     },
     "execution_count": 134,
     "metadata": {},
     "output_type": "execute_result"
    }
   ],
   "source": [
    "# Upper case the string:\n",
    "\n",
    "txt = \"Hello my friends\"\n",
    "txt.upper()\n"
   ]
  },
  {
   "cell_type": "markdown",
   "id": "c6c07d75",
   "metadata": {},
   "source": [
    "###### lstrip()\tReturns a left trim version of the string"
   ]
  },
  {
   "cell_type": "code",
   "execution_count": 136,
   "id": "b8025929",
   "metadata": {},
   "outputs": [
    {
     "data": {
      "text/plain": [
       "'banana     '"
      ]
     },
     "execution_count": 136,
     "metadata": {},
     "output_type": "execute_result"
    }
   ],
   "source": [
    "# Remove spaces to the left of the string:\n",
    "\n",
    "txt = \"     banana     \"\n",
    "txt.lstrip()"
   ]
  },
  {
   "cell_type": "code",
   "execution_count": 139,
   "id": "c07d97d6",
   "metadata": {},
   "outputs": [
    {
     "data": {
      "text/plain": [
       "'banana'"
      ]
     },
     "execution_count": 139,
     "metadata": {},
     "output_type": "execute_result"
    }
   ],
   "source": [
    "# Remove the leading characters:\n",
    "\n",
    "txt = \",,,,,ssaaww.....banana\"\n",
    "txt.lstrip(\",.asw\")\n"
   ]
  },
  {
   "cell_type": "markdown",
   "id": "83073f94",
   "metadata": {},
   "source": [
    "###### rstrip()\tReturns a right trim version of the string"
   ]
  },
  {
   "cell_type": "code",
   "execution_count": 140,
   "id": "1dd2dceb",
   "metadata": {},
   "outputs": [
    {
     "data": {
      "text/plain": [
       "'     banana'"
      ]
     },
     "execution_count": 140,
     "metadata": {},
     "output_type": "execute_result"
    }
   ],
   "source": [
    "# Remove any white spaces at the end of the string:\n",
    "\n",
    "txt = \"     banana     \"\n",
    "txt.rstrip()"
   ]
  },
  {
   "cell_type": "code",
   "execution_count": 141,
   "id": "d321d85b",
   "metadata": {},
   "outputs": [
    {
     "data": {
      "text/plain": [
       "'banana'"
      ]
     },
     "execution_count": 141,
     "metadata": {},
     "output_type": "execute_result"
    }
   ],
   "source": [
    "txt = \"banana,,,,,ssqqqww.....\"\n",
    "txt.rstrip(\",.qsw\")"
   ]
  },
  {
   "cell_type": "markdown",
   "id": "8e313498",
   "metadata": {},
   "source": [
    "###### maketrans()\tReturns a translation table to be used in translations"
   ]
  },
  {
   "cell_type": "raw",
   "id": "28a16904",
   "metadata": {},
   "source": [
    "SYNTAX \n",
    "\n",
    "str.maketrans(x, y, z)\n",
    "\n",
    "x\tRequired. If only one parameter is specified, this has to be a dictionary describing how to perform the replace. If two or more parameters are specified, this parameter has to be a string specifying the characters you want to replace.\n",
    "y\tOptional. A string with the same length as parameter x. Each character in the first parameter will be replaced with the corresponding character in this string.\n",
    "z\tOptional. A string describing which characters to remove from the original string."
   ]
  },
  {
   "cell_type": "code",
   "execution_count": 143,
   "id": "1564873d",
   "metadata": {},
   "outputs": [
    {
     "data": {
      "text/plain": [
       "'Hello Pam!'"
      ]
     },
     "execution_count": 143,
     "metadata": {},
     "output_type": "execute_result"
    }
   ],
   "source": [
    "# Create a mapping table, and use it in the translate() method to replace any \"S\" characters with a \"P\" character:\n",
    "\n",
    "txt = \"Hello Sam!\"\n",
    "a = str.maketrans(\"S\", \"P\")\n",
    "txt.translate(a)"
   ]
  },
  {
   "cell_type": "code",
   "execution_count": 149,
   "id": "2dce5b73",
   "metadata": {},
   "outputs": [
    {
     "data": {
      "text/plain": [
       "'Hi Joe!'"
      ]
     },
     "execution_count": 149,
     "metadata": {},
     "output_type": "execute_result"
    }
   ],
   "source": [
    "# Use a mapping table to replace many characters:\n",
    "\n",
    "txt = \"Hi Sam!\"\n",
    "x = \"mSa\"\n",
    "y = \"eJo\"\n",
    "mytable = str.maketrans(x, y)\n",
    "txt.translate(mytable)"
   ]
  },
  {
   "cell_type": "code",
   "execution_count": 148,
   "id": "1b2928b4",
   "metadata": {},
   "outputs": [
    {
     "data": {
      "text/plain": [
       "'G i Joe!'"
      ]
     },
     "execution_count": 148,
     "metadata": {},
     "output_type": "execute_result"
    }
   ],
   "source": [
    "# The third parameter in the mapping table describes characters that you want to remove from the string:\n",
    "\n",
    "txt = \"Good night Sam!\"\n",
    "x = \"mSa\"\n",
    "y = \"eJo\"\n",
    "z = \"odnght\"\n",
    "mytable = str.maketrans(x, y, z)\n",
    "txt.translate(mytable)"
   ]
  },
  {
   "cell_type": "markdown",
   "id": "5d6d4a3c",
   "metadata": {},
   "source": [
    "###### partition()\tReturns a tuple where the string is parted into three parts"
   ]
  },
  {
   "cell_type": "raw",
   "id": "293ca8b7",
   "metadata": {},
   "source": [
    "SYNTAX\n",
    "\n",
    "string.partition(value)\n",
    "\n",
    "value\tRequired. The string to search for"
   ]
  },
  {
   "cell_type": "code",
   "execution_count": 150,
   "id": "ba8d8c25",
   "metadata": {},
   "outputs": [
    {
     "data": {
      "text/plain": [
       "('I could eat ', 'bananas', ' all day')"
      ]
     },
     "execution_count": 150,
     "metadata": {},
     "output_type": "execute_result"
    }
   ],
   "source": [
    "# Search for the word \"bananas\", and return a tuple with three elements:\n",
    "\n",
    "# 1 - everything before the \"match\"\n",
    "# 2 - the \"match\"\n",
    "# 3 - everything after the \"match\"\n",
    "\n",
    "txt = \"I could eat bananas all day\"\n",
    "txt.partition(\"bananas\")\n"
   ]
  },
  {
   "cell_type": "code",
   "execution_count": 153,
   "id": "c6fa6014",
   "metadata": {},
   "outputs": [
    {
     "data": {
      "text/plain": [
       "('I could eat bananas all day', '', '')"
      ]
     },
     "execution_count": 153,
     "metadata": {},
     "output_type": "execute_result"
    }
   ],
   "source": [
    "# If the specified value is not found, the partition() method returns a tuple containing: 1 - the whole string, 2 - an empty string, 3 - an empty string:\n",
    "\n",
    "txt = \"I could eat bananas all day\"\n",
    "txt.partition(\"apples\")"
   ]
  },
  {
   "cell_type": "markdown",
   "id": "0a8d60b3",
   "metadata": {},
   "source": [
    "###### replace()\tReturns a string where a specified value is replaced with a specified value"
   ]
  },
  {
   "cell_type": "raw",
   "id": "ab80787a",
   "metadata": {},
   "source": [
    "SYNTAX \n",
    "\n",
    "string.replace(oldvalue, newvalue, count)\n",
    "\n",
    "oldvalue\tRequired. The string to search for\n",
    "newvalue\tRequired. The string to replace the old value with\n",
    "count\tOptional. A number specifying how many occurrences of the old value you want to replace. Default is all occurrences"
   ]
  },
  {
   "cell_type": "code",
   "execution_count": 155,
   "id": "7c6fb23b",
   "metadata": {},
   "outputs": [
    {
     "data": {
      "text/plain": [
       "'I like apples'"
      ]
     },
     "execution_count": 155,
     "metadata": {},
     "output_type": "execute_result"
    }
   ],
   "source": [
    "# Replace the word \"bananas\":\n",
    "\n",
    "txt = \"I like bananas\"\n",
    "txt.replace(\"bananas\", \"apples\")"
   ]
  },
  {
   "cell_type": "code",
   "execution_count": 156,
   "id": "9acd65b9",
   "metadata": {},
   "outputs": [
    {
     "data": {
      "text/plain": [
       "'three three was a race horse, two two was three too.'"
      ]
     },
     "execution_count": 156,
     "metadata": {},
     "output_type": "execute_result"
    }
   ],
   "source": [
    "# Replace all occurrence of the word \"one\":\n",
    "\n",
    "txt = \"one one was a race horse, two two was one too.\"\n",
    "txt.replace(\"one\", \"three\")"
   ]
  },
  {
   "cell_type": "code",
   "execution_count": 162,
   "id": "79383107",
   "metadata": {},
   "outputs": [
    {
     "data": {
      "text/plain": [
       "'three one was a race horse, two two was one too.'"
      ]
     },
     "execution_count": 162,
     "metadata": {},
     "output_type": "execute_result"
    }
   ],
   "source": [
    "# Replace the two first occurrence of the word \"one\":\n",
    "\n",
    "txt = \"one one was a race horse, two two was one too.\"\n",
    "txt.replace(\"one\", \"three\",1)\n"
   ]
  },
  {
   "cell_type": "markdown",
   "id": "b31d7061",
   "metadata": {},
   "source": [
    "###### rfind()\tSearches the string for a specified value and returns the last position of where it was found"
   ]
  },
  {
   "cell_type": "code",
   "execution_count": 163,
   "id": "8ca2660d",
   "metadata": {},
   "outputs": [
    {
     "data": {
      "text/plain": [
       "12"
      ]
     },
     "execution_count": 163,
     "metadata": {},
     "output_type": "execute_result"
    }
   ],
   "source": [
    "# Where in the text is the last occurrence of the string \"casa\"?:\n",
    "\n",
    "txt = \"Mi casa, su casa.\"\n",
    "txt.rfind(\"casa\")"
   ]
  },
  {
   "cell_type": "markdown",
   "id": "0af5afb2",
   "metadata": {},
   "source": [
    "###### rindex()\tSearches the string for a specified value and returns the last position of where it was found"
   ]
  },
  {
   "cell_type": "raw",
   "id": "9f7fb010",
   "metadata": {},
   "source": [
    "SYNTAX\n",
    "\n",
    "string.rindex(value, start, end)\n",
    "\n",
    "value\tRequired. The value to search for\n",
    "start\tOptional. Where to start the search. Default is 0\n",
    "end\tOptional. Where to end the search. Default is to the end of the string"
   ]
  },
  {
   "cell_type": "code",
   "execution_count": 1,
   "id": "af2669f4",
   "metadata": {},
   "outputs": [
    {
     "data": {
      "text/plain": [
       "12"
      ]
     },
     "execution_count": 1,
     "metadata": {},
     "output_type": "execute_result"
    }
   ],
   "source": [
    "# Where in the text is the last occurrence of the string \"casa\"?:\n",
    "\n",
    "txt = \"Mi casa, su casa.\"\n",
    "txt.rindex(\"casa\")"
   ]
  },
  {
   "cell_type": "code",
   "execution_count": 3,
   "id": "191a4cf5",
   "metadata": {},
   "outputs": [
    {
     "data": {
      "text/plain": [
       "13"
      ]
     },
     "execution_count": 3,
     "metadata": {},
     "output_type": "execute_result"
    }
   ],
   "source": [
    "# Where in the text is the last occurrence of the letter \"e\"?\n",
    "\n",
    "txt = \"Hello, welcome to my world.\"\n",
    "txt.rindex(\"e\")"
   ]
  },
  {
   "cell_type": "code",
   "execution_count": 4,
   "id": "1743950f",
   "metadata": {},
   "outputs": [
    {
     "data": {
      "text/plain": [
       "8"
      ]
     },
     "execution_count": 4,
     "metadata": {},
     "output_type": "execute_result"
    }
   ],
   "source": [
    "# Where in the text is the last occurrence of the letter \"e\" when you only search between position 5 and 10?:\n",
    "\n",
    "txt = \"Hello, welcome to my world.\"\n",
    "txt.rindex(\"e\", 5, 10)"
   ]
  },
  {
   "cell_type": "markdown",
   "id": "e7f1238f",
   "metadata": {},
   "source": [
    "###### rpartition()\tReturns a tuple where the string is parted into three parts"
   ]
  },
  {
   "cell_type": "code",
   "execution_count": 5,
   "id": "5adac95f",
   "metadata": {},
   "outputs": [
    {
     "data": {
      "text/plain": [
       "('I could eat bananas all day, ', 'bananas', ' are my favorite fruit')"
      ]
     },
     "execution_count": 5,
     "metadata": {},
     "output_type": "execute_result"
    }
   ],
   "source": [
    "# Search for the last occurrence of the word \"bananas\", and return a tuple with three elements:\n",
    "\n",
    "# 1 - everything before the \"match\"\n",
    "# 2 - the \"match\"\n",
    "# 3 - everything after the \"match\"\n",
    "\n",
    "txt = \"I could eat bananas all day, bananas are my favorite fruit\"\n",
    "txt.rpartition(\"bananas\")"
   ]
  },
  {
   "cell_type": "markdown",
   "id": "bd6c512f",
   "metadata": {},
   "source": [
    "###### rsplit()\tSplits the string at the specified separator, and returns a list"
   ]
  },
  {
   "cell_type": "raw",
   "id": "0bf1bdd9",
   "metadata": {},
   "source": [
    "SYNTAX\n",
    "\n",
    "string.rsplit(separator, maxsplit)\n",
    "\n",
    "separator\tOptional. Specifies the separator to use when splitting the string. By default any whitespace is a separator\n",
    "maxsplit\tOptional. Specifies how many splits to do. Default value is -1, which is \"all occurrences\""
   ]
  },
  {
   "cell_type": "code",
   "execution_count": 7,
   "id": "722807b3",
   "metadata": {},
   "outputs": [
    {
     "data": {
      "text/plain": [
       "['apple', 'banana', 'cherry']"
      ]
     },
     "execution_count": 7,
     "metadata": {},
     "output_type": "execute_result"
    }
   ],
   "source": [
    "# Split a string into a list, using comma, followed by a space (, ) as the separator:\n",
    "\n",
    "txt = \"apple, banana, cherry\"\n",
    "txt.rsplit(\", \")"
   ]
  },
  {
   "cell_type": "code",
   "execution_count": 9,
   "id": "40f7e78e",
   "metadata": {},
   "outputs": [
    {
     "data": {
      "text/plain": [
       "['apple, banana', 'cherry']"
      ]
     },
     "execution_count": 9,
     "metadata": {},
     "output_type": "execute_result"
    }
   ],
   "source": [
    "# Split the string into a list with maximum 2 items:\n",
    "\n",
    "txt = \"apple, banana, cherry\"\n",
    "\n",
    "# setting the maxsplit parameter to 1, will return a list with 2 elements!\n",
    "txt.rsplit(\", \", 1)"
   ]
  },
  {
   "cell_type": "markdown",
   "id": "6c307f23",
   "metadata": {},
   "source": [
    "###### split()\tSplits the string at the specified separator, and returns a list"
   ]
  },
  {
   "cell_type": "raw",
   "id": "6073c0d4",
   "metadata": {},
   "source": [
    "SYNTAX\n",
    "\n",
    "string.split(separator, maxsplit)\n",
    "\n",
    "separator\tOptional. Specifies the separator to use when splitting the string. By default any whitespace is a separator\n",
    "maxsplit\tOptional. Specifies how many splits to do. Default value is -1, which is \"all occurrences\""
   ]
  },
  {
   "cell_type": "code",
   "execution_count": 11,
   "id": "41db1e4d",
   "metadata": {},
   "outputs": [
    {
     "data": {
      "text/plain": [
       "['welcome', 'to', 'the', 'jungle']"
      ]
     },
     "execution_count": 11,
     "metadata": {},
     "output_type": "execute_result"
    }
   ],
   "source": [
    "# Split a string into a list where each word is a list item:\n",
    "\n",
    "txt = \"welcome to the jungle\"\n",
    "txt.split()"
   ]
  },
  {
   "cell_type": "code",
   "execution_count": 12,
   "id": "0d7d7250",
   "metadata": {},
   "outputs": [
    {
     "data": {
      "text/plain": [
       "['hello', 'my name is Peter', 'I am 26 years old']"
      ]
     },
     "execution_count": 12,
     "metadata": {},
     "output_type": "execute_result"
    }
   ],
   "source": [
    "# Split the string, using comma, followed by a space, as a separator:\n",
    "\n",
    "txt = \"hello, my name is Peter, I am 26 years old\"\n",
    "txt.split(\", \")"
   ]
  },
  {
   "cell_type": "code",
   "execution_count": 13,
   "id": "d4886d33",
   "metadata": {},
   "outputs": [
    {
     "data": {
      "text/plain": [
       "['apple', 'banana', 'cherry', 'orange']"
      ]
     },
     "execution_count": 13,
     "metadata": {},
     "output_type": "execute_result"
    }
   ],
   "source": [
    "# Use a hash character as a separator:\n",
    "\n",
    "txt = \"apple#banana#cherry#orange\"\n",
    "txt.split(\"#\")"
   ]
  },
  {
   "cell_type": "code",
   "execution_count": 15,
   "id": "7cd02ff9",
   "metadata": {},
   "outputs": [
    {
     "data": {
      "text/plain": [
       "['apple', 'banana#cherry#orange']"
      ]
     },
     "execution_count": 15,
     "metadata": {},
     "output_type": "execute_result"
    }
   ],
   "source": [
    "# Split the string into a list with max 2 items:\n",
    "\n",
    "txt = \"apple#banana#cherry#orange\"\n",
    "\n",
    "# setting the maxsplit parameter to 1, will return a list with 2 elements!\n",
    "txt.split(\"#\", 1)"
   ]
  },
  {
   "cell_type": "markdown",
   "id": "13330db6",
   "metadata": {},
   "source": [
    "###### splitlines()\tSplits the string at line breaks and returns a list"
   ]
  },
  {
   "cell_type": "code",
   "execution_count": 16,
   "id": "81c1d09e",
   "metadata": {},
   "outputs": [
    {
     "data": {
      "text/plain": [
       "['Thank you for the music', 'Welcome to the jungle']"
      ]
     },
     "execution_count": 16,
     "metadata": {},
     "output_type": "execute_result"
    }
   ],
   "source": [
    "# Split a string into a list where each line is a list item:\n",
    "\n",
    "txt = \"Thank you for the music\\nWelcome to the jungle\"\n",
    "txt.splitlines()"
   ]
  },
  {
   "cell_type": "markdown",
   "id": "bc9a6a67",
   "metadata": {},
   "source": [
    "###### startswith()\tReturns true if the string starts with the specified value"
   ]
  },
  {
   "cell_type": "raw",
   "id": "c28e041c",
   "metadata": {},
   "source": [
    "SYNTAX \n",
    "\n",
    "string.startswith(value, start, end)\n",
    "\n",
    "value\tRequired. The value to check if the string starts with\n",
    "start\tOptional. An Integer specifying at which position to start the search\n",
    "end\tOptional. An Integer specifying at which position to end the search"
   ]
  },
  {
   "cell_type": "code",
   "execution_count": 17,
   "id": "3728ce97",
   "metadata": {},
   "outputs": [
    {
     "data": {
      "text/plain": [
       "True"
      ]
     },
     "execution_count": 17,
     "metadata": {},
     "output_type": "execute_result"
    }
   ],
   "source": [
    "# Check if the string starts with \"Hello\":\n",
    "\n",
    "txt = \"Hello, welcome to my world.\"\n",
    "txt.startswith(\"Hello\")"
   ]
  },
  {
   "cell_type": "code",
   "execution_count": 18,
   "id": "ebbe7c47",
   "metadata": {},
   "outputs": [
    {
     "data": {
      "text/plain": [
       "True"
      ]
     },
     "execution_count": 18,
     "metadata": {},
     "output_type": "execute_result"
    }
   ],
   "source": [
    "# Check if position 7 to 20 starts with the characters \"wel\":\n",
    "\n",
    "txt = \"Hello, welcome to my world.\"\n",
    "txt.startswith(\"wel\", 7, 20)"
   ]
  },
  {
   "cell_type": "markdown",
   "id": "71ac6b99",
   "metadata": {},
   "source": [
    "###### strip()\tReturns a trimmed version of the string"
   ]
  },
  {
   "cell_type": "raw",
   "id": "120331ae",
   "metadata": {},
   "source": [
    "SYNTAX\n",
    "\n",
    "\n",
    "string.strip(characters)\n",
    "\n",
    "\n",
    "characters\tOptional. A set of characters to remove as leading/trailing characters"
   ]
  },
  {
   "cell_type": "code",
   "execution_count": 20,
   "id": "5df63713",
   "metadata": {},
   "outputs": [
    {
     "data": {
      "text/plain": [
       "'banana'"
      ]
     },
     "execution_count": 20,
     "metadata": {},
     "output_type": "execute_result"
    }
   ],
   "source": [
    "# Remove spaces at the beginning and at the end of the string:\n",
    "\n",
    "txt = \"     banana     \"\n",
    "txt.strip()"
   ]
  },
  {
   "cell_type": "code",
   "execution_count": 21,
   "id": "1918c074",
   "metadata": {},
   "outputs": [
    {
     "data": {
      "text/plain": [
       "'banana'"
      ]
     },
     "execution_count": 21,
     "metadata": {},
     "output_type": "execute_result"
    }
   ],
   "source": [
    "# Remove the leading and trailing characters:\n",
    "\n",
    "txt = \",,,,,rrttgg.....banana....rrr\"\n",
    "txt.strip(\",.grt\")"
   ]
  },
  {
   "cell_type": "markdown",
   "id": "a26666c5",
   "metadata": {},
   "source": [
    "###### swapcase()\tSwaps cases, lower case becomes upper case and vice versa"
   ]
  },
  {
   "cell_type": "code",
   "execution_count": 22,
   "id": "98c27bf8",
   "metadata": {},
   "outputs": [
    {
     "data": {
      "text/plain": [
       "'hELLO mY nAME iS peter'"
      ]
     },
     "execution_count": 22,
     "metadata": {},
     "output_type": "execute_result"
    }
   ],
   "source": [
    "# Make the lower case letters upper case and the upper case letters lower case:\n",
    "\n",
    "txt = \"Hello My Name Is PETER\"\n",
    "txt.swapcase()"
   ]
  },
  {
   "cell_type": "markdown",
   "id": "c504e0f3",
   "metadata": {},
   "source": [
    "###### title()\tConverts the first character of each word to upper case"
   ]
  },
  {
   "cell_type": "code",
   "execution_count": 23,
   "id": "a4c0f0b3",
   "metadata": {},
   "outputs": [
    {
     "data": {
      "text/plain": [
       "'Welcome To My World'"
      ]
     },
     "execution_count": 23,
     "metadata": {},
     "output_type": "execute_result"
    }
   ],
   "source": [
    "# Make the first letter in each word upper case:\n",
    "\n",
    "txt = \"Welcome to my world\"\n",
    "txt.title()"
   ]
  },
  {
   "cell_type": "code",
   "execution_count": 24,
   "id": "882d6cea",
   "metadata": {},
   "outputs": [
    {
     "data": {
      "text/plain": [
       "'Welcome To My 2Nd World'"
      ]
     },
     "execution_count": 24,
     "metadata": {},
     "output_type": "execute_result"
    }
   ],
   "source": [
    "# Make the first letter in each word upper case:\n",
    "\n",
    "txt = \"Welcome to my 2nd world\"\n",
    "txt.title()"
   ]
  },
  {
   "cell_type": "code",
   "execution_count": 25,
   "id": "0956713c",
   "metadata": {},
   "outputs": [
    {
     "data": {
      "text/plain": [
       "'Hello B2B2B2 And 3G3G3G'"
      ]
     },
     "execution_count": 25,
     "metadata": {},
     "output_type": "execute_result"
    }
   ],
   "source": [
    "# Note that the first letter after a non-alphabet letter is converted into a upper case letter:\n",
    "\n",
    "txt = \"hello b2b2b2 and 3g3g3g\"\n",
    "txt.title()"
   ]
  },
  {
   "cell_type": "markdown",
   "id": "8c00fa30",
   "metadata": {},
   "source": [
    "###### translate()\tReturns a translated string"
   ]
  },
  {
   "cell_type": "code",
   "execution_count": 26,
   "id": "6863cca7",
   "metadata": {},
   "outputs": [
    {
     "data": {
      "text/plain": [
       "'Hello Pam!'"
      ]
     },
     "execution_count": 26,
     "metadata": {},
     "output_type": "execute_result"
    }
   ],
   "source": [
    "# Replace any \"S\" characters with a \"P\" character:\n",
    "\n",
    "#use a dictionary with ascii codes to replace 83 (S) with 80 (P):\n",
    "mydict = {83 :  80}\n",
    "txt = \"Hello Sam!\"\n",
    "txt.translate(mydict)"
   ]
  },
  {
   "cell_type": "code",
   "execution_count": 27,
   "id": "4018d034",
   "metadata": {},
   "outputs": [
    {
     "data": {
      "text/plain": [
       "'Hello Pam!'"
      ]
     },
     "execution_count": 27,
     "metadata": {},
     "output_type": "execute_result"
    }
   ],
   "source": [
    "# Use a mapping table to replace \"S\" with \"P\":\n",
    "\n",
    "txt = \"Hello Sam!\"\n",
    "mytable = str.maketrans(\"S\", \"P\")\n",
    "txt.translate(mytable)"
   ]
  },
  {
   "cell_type": "markdown",
   "id": "33606d90",
   "metadata": {},
   "source": [
    "###### zfill()\tFills the string with a specified number of 0 values at the beginning"
   ]
  },
  {
   "cell_type": "raw",
   "id": "b76be7cb",
   "metadata": {},
   "source": [
    "SYNTAX\n",
    "\n",
    "string.zfill(len)\n",
    "\n",
    "len\tRequired. A number specifying the desired length of the string"
   ]
  },
  {
   "cell_type": "code",
   "execution_count": 28,
   "id": "3920d6c8",
   "metadata": {},
   "outputs": [
    {
     "data": {
      "text/plain": [
       "'0000000050'"
      ]
     },
     "execution_count": 28,
     "metadata": {},
     "output_type": "execute_result"
    }
   ],
   "source": [
    "# Fill the string with zeros until it is 10 characters long:\n",
    "\n",
    "txt = \"50\"\n",
    "txt.zfill(10)"
   ]
  },
  {
   "cell_type": "code",
   "execution_count": 32,
   "id": "6464657b",
   "metadata": {},
   "outputs": [
    {
     "name": "stdout",
     "output_type": "stream",
     "text": [
      "00000hello\n",
      "welcome to the jungle\n",
      "000010.000\n"
     ]
    }
   ],
   "source": [
    "# Fill the strings with zeros until they are 10 characters long:\n",
    "\n",
    "a = \"hello\"\n",
    "b = \"welcome to the jungle\"\n",
    "c = \"10.000\"\n",
    "\n",
    "print(a.zfill(10))\n",
    "print(b.zfill(10))\n",
    "print(c.zfill(10))"
   ]
  },
  {
   "cell_type": "code",
   "execution_count": null,
   "id": "96eca9fd",
   "metadata": {},
   "outputs": [],
   "source": []
  }
 ],
 "metadata": {
  "kernelspec": {
   "display_name": "Python 3 (ipykernel)",
   "language": "python",
   "name": "python3"
  },
  "language_info": {
   "codemirror_mode": {
    "name": "ipython",
    "version": 3
   },
   "file_extension": ".py",
   "mimetype": "text/x-python",
   "name": "python",
   "nbconvert_exporter": "python",
   "pygments_lexer": "ipython3",
   "version": "3.9.12"
  }
 },
 "nbformat": 4,
 "nbformat_minor": 5
}
